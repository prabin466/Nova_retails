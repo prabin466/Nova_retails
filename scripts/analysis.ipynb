{
 "cells": [
  {
   "metadata": {},
   "cell_type": "markdown",
   "source": "# Retail Analysis with MongoDB",
   "id": "5cec188892273841"
  },
  {
   "cell_type": "code",
   "id": "initial_id",
   "metadata": {
    "collapsed": true,
    "ExecuteTime": {
     "end_time": "2025-09-20T13:07:14.347299Z",
     "start_time": "2025-09-20T13:07:14.339554Z"
    }
   },
   "source": [
    "import yaml\n",
    "from pymongo import  MongoClient\n",
    "import pandas as pd\n",
    "\n",
    "# Load config.yaml\n",
    "with open(\"../config.yaml\", 'r') as f:\n",
    "    cfg = yaml.safe_load(f)\n",
    "\n",
    "client = MongoClient(cfg[\"mongodb\"][\"uri\"])\n",
    "db = client[cfg[\"mongodb\"][\"database\"]]"
   ],
   "outputs": [],
   "execution_count": 11
  },
  {
   "metadata": {
    "ExecuteTime": {
     "end_time": "2025-09-20T13:23:33.037263Z",
     "start_time": "2025-09-20T13:23:33.033355Z"
    }
   },
   "cell_type": "code",
   "source": [
    "# Load curated data\n",
    "sales_col = db[\"daily_sales\"]\n",
    "customers_col = db[\"customers_curated\"]\n",
    "stock_col = db[\"stock\"]\n",
    "\n",
    "print(\"Collections:\", db.list_collection_names())"
   ],
   "id": "20fc53bc97760a1e",
   "outputs": [
    {
     "name": "stdout",
     "output_type": "stream",
     "text": [
      "Collections: ['customers_curated', 'daily_sales', 'stock']\n"
     ]
    }
   ],
   "execution_count": 29
  },
  {
   "metadata": {
    "ExecuteTime": {
     "end_time": "2025-09-20T13:21:46.825338Z",
     "start_time": "2025-09-20T13:21:46.821250Z"
    }
   },
   "cell_type": "code",
   "source": "sales_col.count_documents({}) # Verify if the data is loaded",
   "id": "199a7b8cf799c455",
   "outputs": [
    {
     "data": {
      "text/plain": [
       "36"
      ]
     },
     "execution_count": 25,
     "metadata": {},
     "output_type": "execute_result"
    }
   ],
   "execution_count": 25
  },
  {
   "metadata": {
    "ExecuteTime": {
     "end_time": "2025-09-20T13:22:01.355150Z",
     "start_time": "2025-09-20T13:22:01.351379Z"
    }
   },
   "cell_type": "code",
   "source": "customers_col.count_documents({})",
   "id": "3a266cf079692c8",
   "outputs": [
    {
     "data": {
      "text/plain": [
       "4"
      ]
     },
     "execution_count": 26,
     "metadata": {},
     "output_type": "execute_result"
    }
   ],
   "execution_count": 26
  },
  {
   "metadata": {
    "ExecuteTime": {
     "end_time": "2025-09-20T13:23:49.516699Z",
     "start_time": "2025-09-20T13:23:49.511830Z"
    }
   },
   "cell_type": "code",
   "source": "stock_col.count_documents({})",
   "id": "2cedf4d55a3720d",
   "outputs": [
    {
     "data": {
      "text/plain": [
       "144"
      ]
     },
     "execution_count": 30,
     "metadata": {},
     "output_type": "execute_result"
    }
   ],
   "execution_count": 30
  },
  {
   "metadata": {},
   "cell_type": "markdown",
   "source": "## Top 10 SKUs by Quantity sold",
   "id": "7a64c80425cc28fe"
  },
  {
   "metadata": {
    "ExecuteTime": {
     "end_time": "2025-09-20T13:07:14.467137Z",
     "start_time": "2025-09-20T13:07:14.459346Z"
    }
   },
   "cell_type": "code",
   "source": [
    "pipeline = [\n",
    "    {\n",
    "        \"$group\": {\n",
    "            \"_id\": \"$sku_id\",\n",
    "            \"total_quantity\": {\"$sum\": \"$total_qty\"},\n",
    "            \"total_sales\": {\"$sum\": \"$total_sales\"},\n",
    "        }\n",
    "    },\n",
    "    {\"$sort\": {\"total_quantity\": -1}},\n",
    "    {\"$limit\":10}\n",
    "]\n",
    "top_skus =list(sales_col.aggregate(pipeline)) # MongoDB outputs json like files, so we will be using pandas as it renders better tables. If you want better output, you can make connection with mongo Compass , GUI for MongoDB and just do the same query.\n",
    "\n",
    "df_top_skus = pd.DataFrame(top_skus)\n",
    "df_top_skus.rename(columns={\"_id\": \"sku_id\"}, inplace=True)\n",
    "df_top_skus\n"
   ],
   "id": "439abade90c2b73d",
   "outputs": [
    {
     "data": {
      "text/plain": [
       "  sku_id  total_quantity  total_sales\n",
       "0   P001            2961    297894.61\n",
       "1   P002            2259    448804.17\n",
       "2   P003            2196    649871.84"
      ],
      "text/html": [
       "<div>\n",
       "<style scoped>\n",
       "    .dataframe tbody tr th:only-of-type {\n",
       "        vertical-align: middle;\n",
       "    }\n",
       "\n",
       "    .dataframe tbody tr th {\n",
       "        vertical-align: top;\n",
       "    }\n",
       "\n",
       "    .dataframe thead th {\n",
       "        text-align: right;\n",
       "    }\n",
       "</style>\n",
       "<table border=\"1\" class=\"dataframe\">\n",
       "  <thead>\n",
       "    <tr style=\"text-align: right;\">\n",
       "      <th></th>\n",
       "      <th>sku_id</th>\n",
       "      <th>total_quantity</th>\n",
       "      <th>total_sales</th>\n",
       "    </tr>\n",
       "  </thead>\n",
       "  <tbody>\n",
       "    <tr>\n",
       "      <th>0</th>\n",
       "      <td>P001</td>\n",
       "      <td>2961</td>\n",
       "      <td>297894.61</td>\n",
       "    </tr>\n",
       "    <tr>\n",
       "      <th>1</th>\n",
       "      <td>P002</td>\n",
       "      <td>2259</td>\n",
       "      <td>448804.17</td>\n",
       "    </tr>\n",
       "    <tr>\n",
       "      <th>2</th>\n",
       "      <td>P003</td>\n",
       "      <td>2196</td>\n",
       "      <td>649871.84</td>\n",
       "    </tr>\n",
       "  </tbody>\n",
       "</table>\n",
       "</div>"
      ]
     },
     "execution_count": 14,
     "metadata": {},
     "output_type": "execute_result"
    }
   ],
   "execution_count": 14
  },
  {
   "metadata": {},
   "cell_type": "markdown",
   "source": [
    "I had only 3 sku id in  my dataset.\n",
    "\n",
    "## Daily sales trend for specific SKU"
   ],
   "id": "33a200c3d4467aa5"
  },
  {
   "metadata": {
    "ExecuteTime": {
     "end_time": "2025-09-20T13:10:10.632617Z",
     "start_time": "2025-09-20T13:10:10.624458Z"
    }
   },
   "cell_type": "code",
   "source": [
    "sku_id = \"P002\"  # Example SKU\n",
    "pipeline = [\n",
    "    {\"$match\": {\"sku_id\": sku_id}},    # Filter for this SKU\n",
    "    {\n",
    "        \"$group\": {\n",
    "            \"_id\": \"$date\",            # Group by date\n",
    "            \"daily_quantity\": {\"$sum\": \"$total_qty\"},  # Sum quantity per day\n",
    "            \"daily_sales\": {\"$sum\": \"$total_sales\"}    # Sum revenue per day\n",
    "        }\n",
    "    },\n",
    "    {\"$sort\": {\"_id\": 1}}  # Sort by date ascending\n",
    "]\n",
    "\n",
    "daily_trend = list(sales_col.aggregate(pipeline))\n",
    "df_daily_trend = pd.DataFrame(daily_trend)\n",
    "df_daily_trend.rename(columns={\"_id\": \"date\"}, inplace=True)\n",
    "df_daily_trend"
   ],
   "id": "2320be7ae6622355",
   "outputs": [
    {
     "data": {
      "text/plain": [
       "                 date  daily_quantity  daily_sales\n",
       "0 2025-08-29 14:00:00             442     87230.34\n",
       "1 2025-08-30 14:00:00             426     85029.13\n",
       "2 2025-08-31 14:00:00             223     45128.50\n",
       "3 2025-09-01 14:00:00             330     63700.89\n",
       "4 2025-09-02 14:00:00             406     81413.55\n",
       "5 2025-09-03 14:00:00             432     86301.76"
      ],
      "text/html": [
       "<div>\n",
       "<style scoped>\n",
       "    .dataframe tbody tr th:only-of-type {\n",
       "        vertical-align: middle;\n",
       "    }\n",
       "\n",
       "    .dataframe tbody tr th {\n",
       "        vertical-align: top;\n",
       "    }\n",
       "\n",
       "    .dataframe thead th {\n",
       "        text-align: right;\n",
       "    }\n",
       "</style>\n",
       "<table border=\"1\" class=\"dataframe\">\n",
       "  <thead>\n",
       "    <tr style=\"text-align: right;\">\n",
       "      <th></th>\n",
       "      <th>date</th>\n",
       "      <th>daily_quantity</th>\n",
       "      <th>daily_sales</th>\n",
       "    </tr>\n",
       "  </thead>\n",
       "  <tbody>\n",
       "    <tr>\n",
       "      <th>0</th>\n",
       "      <td>2025-08-29 14:00:00</td>\n",
       "      <td>442</td>\n",
       "      <td>87230.34</td>\n",
       "    </tr>\n",
       "    <tr>\n",
       "      <th>1</th>\n",
       "      <td>2025-08-30 14:00:00</td>\n",
       "      <td>426</td>\n",
       "      <td>85029.13</td>\n",
       "    </tr>\n",
       "    <tr>\n",
       "      <th>2</th>\n",
       "      <td>2025-08-31 14:00:00</td>\n",
       "      <td>223</td>\n",
       "      <td>45128.50</td>\n",
       "    </tr>\n",
       "    <tr>\n",
       "      <th>3</th>\n",
       "      <td>2025-09-01 14:00:00</td>\n",
       "      <td>330</td>\n",
       "      <td>63700.89</td>\n",
       "    </tr>\n",
       "    <tr>\n",
       "      <th>4</th>\n",
       "      <td>2025-09-02 14:00:00</td>\n",
       "      <td>406</td>\n",
       "      <td>81413.55</td>\n",
       "    </tr>\n",
       "    <tr>\n",
       "      <th>5</th>\n",
       "      <td>2025-09-03 14:00:00</td>\n",
       "      <td>432</td>\n",
       "      <td>86301.76</td>\n",
       "    </tr>\n",
       "  </tbody>\n",
       "</table>\n",
       "</div>"
      ]
     },
     "execution_count": 15,
     "metadata": {},
     "output_type": "execute_result"
    }
   ],
   "execution_count": 15
  },
  {
   "metadata": {},
   "cell_type": "markdown",
   "source": "## High-Value customers that are on likely to leave",
   "id": "d6d570ab0615d0b9"
  },
  {
   "metadata": {
    "ExecuteTime": {
     "end_time": "2025-09-20T13:15:14.833656Z",
     "start_time": "2025-09-20T13:15:14.825340Z"
    }
   },
   "cell_type": "code",
   "source": [
    "pipeline = [\n",
    "    {\n",
    "        \"$match\": {\n",
    "            \"$or\": [\n",
    "                {\"monetary_score\": {\"$gte\": 3}},\n",
    "                {\"frequency_score\": {\"$gte\": 3}}\n",
    "            ],\n",
    "            \"recency_score\": {\"$lte\": 2}   # haven't purchased recently\n",
    "        }\n",
    "    },\n",
    "    {\"$sort\": {\"monetary\": -1, \"frequency\": -1, \"recency\": 1}},  # prioritize high spenders\n",
    "    {\"$limit\": 10}  # top 10\n",
    "]\n",
    "\n",
    "at_risk_customers = list(customers_col.aggregate(pipeline))\n",
    "df_at_risk_customers = pd.DataFrame(at_risk_customers)\n",
    "df_at_risk_customers.rename(columns={\"_id\": \"mongo_id\"}, inplace=True)\n",
    "df_at_risk_customers\n"
   ],
   "id": "e2a5b978e52370d1",
   "outputs": [
    {
     "data": {
      "text/plain": [
       "                   mongo_id customer_id  last_purchase_date  recency  \\\n",
       "0  68ce9f781b0dbb6d48724d94        C002 2025-08-25 14:00:00       25   \n",
       "1  68ce9f781b0dbb6d48724d91        C003 2025-08-22 14:00:00       28   \n",
       "\n",
       "   frequency  monetary  recency_score  frequency_score  monetary_score  \\\n",
       "0         27    5292.0              2                3               4   \n",
       "1         26    2574.0              1                2               3   \n",
       "\n",
       "   RFM_total_score  \n",
       "0                9  \n",
       "1                6  "
      ],
      "text/html": [
       "<div>\n",
       "<style scoped>\n",
       "    .dataframe tbody tr th:only-of-type {\n",
       "        vertical-align: middle;\n",
       "    }\n",
       "\n",
       "    .dataframe tbody tr th {\n",
       "        vertical-align: top;\n",
       "    }\n",
       "\n",
       "    .dataframe thead th {\n",
       "        text-align: right;\n",
       "    }\n",
       "</style>\n",
       "<table border=\"1\" class=\"dataframe\">\n",
       "  <thead>\n",
       "    <tr style=\"text-align: right;\">\n",
       "      <th></th>\n",
       "      <th>mongo_id</th>\n",
       "      <th>customer_id</th>\n",
       "      <th>last_purchase_date</th>\n",
       "      <th>recency</th>\n",
       "      <th>frequency</th>\n",
       "      <th>monetary</th>\n",
       "      <th>recency_score</th>\n",
       "      <th>frequency_score</th>\n",
       "      <th>monetary_score</th>\n",
       "      <th>RFM_total_score</th>\n",
       "    </tr>\n",
       "  </thead>\n",
       "  <tbody>\n",
       "    <tr>\n",
       "      <th>0</th>\n",
       "      <td>68ce9f781b0dbb6d48724d94</td>\n",
       "      <td>C002</td>\n",
       "      <td>2025-08-25 14:00:00</td>\n",
       "      <td>25</td>\n",
       "      <td>27</td>\n",
       "      <td>5292.0</td>\n",
       "      <td>2</td>\n",
       "      <td>3</td>\n",
       "      <td>4</td>\n",
       "      <td>9</td>\n",
       "    </tr>\n",
       "    <tr>\n",
       "      <th>1</th>\n",
       "      <td>68ce9f781b0dbb6d48724d91</td>\n",
       "      <td>C003</td>\n",
       "      <td>2025-08-22 14:00:00</td>\n",
       "      <td>28</td>\n",
       "      <td>26</td>\n",
       "      <td>2574.0</td>\n",
       "      <td>1</td>\n",
       "      <td>2</td>\n",
       "      <td>3</td>\n",
       "      <td>6</td>\n",
       "    </tr>\n",
       "  </tbody>\n",
       "</table>\n",
       "</div>"
      ]
     },
     "execution_count": 17,
     "metadata": {},
     "output_type": "execute_result"
    }
   ],
   "execution_count": 17
  },
  {
   "metadata": {},
   "cell_type": "markdown",
   "source": [
    "## High-frequency low-spend customers\n",
    "Targeting customers for upselling or cross-selling campaigns"
   ],
   "id": "b364f54b4a82bffb"
  },
  {
   "metadata": {
    "ExecuteTime": {
     "end_time": "2025-09-20T13:18:50.377473Z",
     "start_time": "2025-09-20T13:18:50.369705Z"
    }
   },
   "cell_type": "code",
   "source": [
    "pipeline = [\n",
    "    {\n",
    "        \"$match\": {\n",
    "            \"frequency_score\": {\"$gte\": 3},   # frequent buyers\n",
    "            \"monetary_score\": {\"$lte\": 2}     # low spend\n",
    "        }\n",
    "    },\n",
    "    {\n",
    "        \"$addFields\": {\n",
    "            \"avg_order_value\": {\n",
    "                \"$divide\": [\"$monetary\", \"$frequency\"]  # average spend per order\n",
    "            }\n",
    "        }\n",
    "    },\n",
    "    {\"$sort\": {\"avg_order_value\": 1}},  # lowest avg order value first\n",
    "    {\"$limit\": 10}                      # top 10 low-value frequent customers\n",
    "]\n",
    "\n",
    "low_value_frequent = list(customers_col.aggregate(pipeline))\n",
    "df_low_value_frequent = pd.DataFrame(low_value_frequent)\n",
    "df_low_value_frequent.rename(columns={\"_id\": \"mongo_id\"}, inplace=True)\n",
    "df_low_value_frequent\n"
   ],
   "id": "894d4ae3a8ad3be5",
   "outputs": [
    {
     "data": {
      "text/plain": [
       "                   mongo_id customer_id  last_purchase_date  recency  \\\n",
       "0  68ce9f781b0dbb6d48724d92        C004 2025-08-27 14:00:00       23   \n",
       "\n",
       "   frequency  monetary  recency_score  frequency_score  monetary_score  \\\n",
       "0         37    2331.0              4                4               2   \n",
       "\n",
       "   RFM_total_score  avg_order_value  \n",
       "0               10             63.0  "
      ],
      "text/html": [
       "<div>\n",
       "<style scoped>\n",
       "    .dataframe tbody tr th:only-of-type {\n",
       "        vertical-align: middle;\n",
       "    }\n",
       "\n",
       "    .dataframe tbody tr th {\n",
       "        vertical-align: top;\n",
       "    }\n",
       "\n",
       "    .dataframe thead th {\n",
       "        text-align: right;\n",
       "    }\n",
       "</style>\n",
       "<table border=\"1\" class=\"dataframe\">\n",
       "  <thead>\n",
       "    <tr style=\"text-align: right;\">\n",
       "      <th></th>\n",
       "      <th>mongo_id</th>\n",
       "      <th>customer_id</th>\n",
       "      <th>last_purchase_date</th>\n",
       "      <th>recency</th>\n",
       "      <th>frequency</th>\n",
       "      <th>monetary</th>\n",
       "      <th>recency_score</th>\n",
       "      <th>frequency_score</th>\n",
       "      <th>monetary_score</th>\n",
       "      <th>RFM_total_score</th>\n",
       "      <th>avg_order_value</th>\n",
       "    </tr>\n",
       "  </thead>\n",
       "  <tbody>\n",
       "    <tr>\n",
       "      <th>0</th>\n",
       "      <td>68ce9f781b0dbb6d48724d92</td>\n",
       "      <td>C004</td>\n",
       "      <td>2025-08-27 14:00:00</td>\n",
       "      <td>23</td>\n",
       "      <td>37</td>\n",
       "      <td>2331.0</td>\n",
       "      <td>4</td>\n",
       "      <td>4</td>\n",
       "      <td>2</td>\n",
       "      <td>10</td>\n",
       "      <td>63.0</td>\n",
       "    </tr>\n",
       "  </tbody>\n",
       "</table>\n",
       "</div>"
      ]
     },
     "execution_count": 20,
     "metadata": {},
     "output_type": "execute_result"
    }
   ],
   "execution_count": 20
  },
  {
   "metadata": {},
   "cell_type": "markdown",
   "source": "## Stores with Most At-Risk Skus",
   "id": "264382d1ab26f703"
  },
  {
   "metadata": {
    "ExecuteTime": {
     "end_time": "2025-09-20T13:27:07.312912Z",
     "start_time": "2025-09-20T13:27:07.305635Z"
    }
   },
   "cell_type": "code",
   "source": [
    "pipeline = [\n",
    "    {\n",
    "        \"$match\": {\n",
    "            \"stock_out_signal\": 1\n",
    "        }\n",
    "    },\n",
    "    {\n",
    "        \"$group\": {\n",
    "            \"_id\": \"$store_id\",\n",
    "            \"num_at_risk_skus\": {\"$sum\": 1},\n",
    "            \"avg_stock_qty\": {\"$avg\": \"$on_stock\"}\n",
    "        }\n",
    "    },\n",
    "    {\"$sort\": {\"num_at_risk_skus\": -1}},\n",
    "    {\"$limit\": 5}\n",
    "]\n",
    "\n",
    "stores_at_risk = list(stock_col.aggregate(pipeline))\n",
    "df_stores_at_risk = pd.DataFrame(stores_at_risk)\n",
    "df_stores_at_risk.rename(columns={\"_id\": \"store_id\"}, inplace=True)\n",
    "df_stores_at_risk\n",
    "\n"
   ],
   "id": "357d8d908d532acf",
   "outputs": [
    {
     "data": {
      "text/plain": [
       "  store_id  num_at_risk_skus  avg_stock_qty\n",
       "0     X001                56     103.285714\n",
       "1     X002                50      83.240000"
      ],
      "text/html": [
       "<div>\n",
       "<style scoped>\n",
       "    .dataframe tbody tr th:only-of-type {\n",
       "        vertical-align: middle;\n",
       "    }\n",
       "\n",
       "    .dataframe tbody tr th {\n",
       "        vertical-align: top;\n",
       "    }\n",
       "\n",
       "    .dataframe thead th {\n",
       "        text-align: right;\n",
       "    }\n",
       "</style>\n",
       "<table border=\"1\" class=\"dataframe\">\n",
       "  <thead>\n",
       "    <tr style=\"text-align: right;\">\n",
       "      <th></th>\n",
       "      <th>store_id</th>\n",
       "      <th>num_at_risk_skus</th>\n",
       "      <th>avg_stock_qty</th>\n",
       "    </tr>\n",
       "  </thead>\n",
       "  <tbody>\n",
       "    <tr>\n",
       "      <th>0</th>\n",
       "      <td>X001</td>\n",
       "      <td>56</td>\n",
       "      <td>103.285714</td>\n",
       "    </tr>\n",
       "    <tr>\n",
       "      <th>1</th>\n",
       "      <td>X002</td>\n",
       "      <td>50</td>\n",
       "      <td>83.240000</td>\n",
       "    </tr>\n",
       "  </tbody>\n",
       "</table>\n",
       "</div>"
      ]
     },
     "execution_count": 36,
     "metadata": {},
     "output_type": "execute_result"
    }
   ],
   "execution_count": 36
  },
  {
   "metadata": {},
   "cell_type": "markdown",
   "source": [
    "## Critical SKUs by Store\n",
    "It shows which store is most critical for restocking"
   ],
   "id": "3a9fccc4e8f9d389"
  },
  {
   "metadata": {
    "ExecuteTime": {
     "end_time": "2025-09-20T13:30:37.289192Z",
     "start_time": "2025-09-20T13:30:37.274425Z"
    }
   },
   "cell_type": "code",
   "source": [
    "pipeline = [\n",
    "    # Group by store and SKU\n",
    "    {\n",
    "        \"$group\": {\n",
    "            \"_id\": {\"store_id\": \"$store_id\", \"sku_id\": \"$sku_id\"},\n",
    "            \"total_on_stock\": {\"$sum\": \"$on_stock\"},\n",
    "            \"total_moving_avg\": {\"$sum\": \"$moving_avg_qty\"}\n",
    "        }\n",
    "    },\n",
    "    # Compute stock-to-demand ratio\n",
    "    {\n",
    "        \"$addFields\": {\n",
    "            \"stock_to_avg_sales_ratio\": {\n",
    "                \"$divide\": [\"$total_on_stock\", \"$total_moving_avg\"]\n",
    "            }\n",
    "        }\n",
    "    },\n",
    "    # Filter SKUs at risk\n",
    "    {\n",
    "        \"$match\": {\n",
    "            \"stock_to_avg_sales_ratio\": {\"$lte\": 1}\n",
    "        }\n",
    "    },\n",
    "    # Sort by ratio ascending (most urgent first)\n",
    "    {\"$sort\": {\"stock_to_avg_sales_ratio\": 1}},\n",
    "    {\"$limit\": 20}  # Top 20 for visibility\n",
    "]\n",
    "\n",
    "critical_skus_store = list(stock_col.aggregate(pipeline))\n",
    "\n",
    "# Convert to DataFrame for better visualization\n",
    "df_critical_skus_store = pd.DataFrame(critical_skus_store)\n",
    "df_critical_skus_store = pd.concat([df_critical_skus_store.drop(columns=[\"_id\"]),\n",
    "                                    df_critical_skus_store[\"_id\"].apply(pd.Series)], axis=1)\n",
    "\n",
    "df_critical_skus_store\n"
   ],
   "id": "212bf537f756ff52",
   "outputs": [
    {
     "data": {
      "text/plain": [
       "   total_on_stock  total_moving_avg  stock_to_avg_sales_ratio store_id sku_id\n",
       "0            2968       5539.826667                  0.535757     X001   P001\n",
       "1            3150       5682.563333                  0.554327     X001   P002\n",
       "2            3270       5618.893333                  0.581965     X002   P003\n",
       "3            3096       4682.166667                  0.661232     X002   P001\n",
       "4            2956       4192.506667                  0.705067     X002   P002\n",
       "5            3700       4117.603333                  0.898581     X001   P003"
      ],
      "text/html": [
       "<div>\n",
       "<style scoped>\n",
       "    .dataframe tbody tr th:only-of-type {\n",
       "        vertical-align: middle;\n",
       "    }\n",
       "\n",
       "    .dataframe tbody tr th {\n",
       "        vertical-align: top;\n",
       "    }\n",
       "\n",
       "    .dataframe thead th {\n",
       "        text-align: right;\n",
       "    }\n",
       "</style>\n",
       "<table border=\"1\" class=\"dataframe\">\n",
       "  <thead>\n",
       "    <tr style=\"text-align: right;\">\n",
       "      <th></th>\n",
       "      <th>total_on_stock</th>\n",
       "      <th>total_moving_avg</th>\n",
       "      <th>stock_to_avg_sales_ratio</th>\n",
       "      <th>store_id</th>\n",
       "      <th>sku_id</th>\n",
       "    </tr>\n",
       "  </thead>\n",
       "  <tbody>\n",
       "    <tr>\n",
       "      <th>0</th>\n",
       "      <td>2968</td>\n",
       "      <td>5539.826667</td>\n",
       "      <td>0.535757</td>\n",
       "      <td>X001</td>\n",
       "      <td>P001</td>\n",
       "    </tr>\n",
       "    <tr>\n",
       "      <th>1</th>\n",
       "      <td>3150</td>\n",
       "      <td>5682.563333</td>\n",
       "      <td>0.554327</td>\n",
       "      <td>X001</td>\n",
       "      <td>P002</td>\n",
       "    </tr>\n",
       "    <tr>\n",
       "      <th>2</th>\n",
       "      <td>3270</td>\n",
       "      <td>5618.893333</td>\n",
       "      <td>0.581965</td>\n",
       "      <td>X002</td>\n",
       "      <td>P003</td>\n",
       "    </tr>\n",
       "    <tr>\n",
       "      <th>3</th>\n",
       "      <td>3096</td>\n",
       "      <td>4682.166667</td>\n",
       "      <td>0.661232</td>\n",
       "      <td>X002</td>\n",
       "      <td>P001</td>\n",
       "    </tr>\n",
       "    <tr>\n",
       "      <th>4</th>\n",
       "      <td>2956</td>\n",
       "      <td>4192.506667</td>\n",
       "      <td>0.705067</td>\n",
       "      <td>X002</td>\n",
       "      <td>P002</td>\n",
       "    </tr>\n",
       "    <tr>\n",
       "      <th>5</th>\n",
       "      <td>3700</td>\n",
       "      <td>4117.603333</td>\n",
       "      <td>0.898581</td>\n",
       "      <td>X001</td>\n",
       "      <td>P003</td>\n",
       "    </tr>\n",
       "  </tbody>\n",
       "</table>\n",
       "</div>"
      ]
     },
     "execution_count": 39,
     "metadata": {},
     "output_type": "execute_result"
    }
   ],
   "execution_count": 39
  },
  {
   "metadata": {},
   "cell_type": "code",
   "outputs": [],
   "execution_count": null,
   "source": "",
   "id": "be03e1cd4077f3ce"
  }
 ],
 "metadata": {
  "kernelspec": {
   "display_name": "Python 3",
   "language": "python",
   "name": "python3"
  },
  "language_info": {
   "codemirror_mode": {
    "name": "ipython",
    "version": 2
   },
   "file_extension": ".py",
   "mimetype": "text/x-python",
   "name": "python",
   "nbconvert_exporter": "python",
   "pygments_lexer": "ipython2",
   "version": "2.7.6"
  }
 },
 "nbformat": 4,
 "nbformat_minor": 5
}
