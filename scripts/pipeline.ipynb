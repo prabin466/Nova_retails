{
 "cells": [
  {
   "metadata": {},
   "cell_type": "markdown",
   "source": [
    "## Spark Setup\n",
    "We create a SparkSession to process batch CSvs and micro-batch inventory streams.\n",
    "The app name and master configuration are from \"config.yaml\"."
   ],
   "id": "a09aa5baf070d3cb"
  },
  {
   "metadata": {
    "ExecuteTime": {
     "end_time": "2025-09-21T03:00:15.381322Z",
     "start_time": "2025-09-21T03:00:15.378772Z"
    }
   },
   "cell_type": "code",
   "source": [
    "from pathlib import Path\n",
    "\n",
    "project_root = Path.cwd().parent"
   ],
   "id": "54e8cb136e57d641",
   "outputs": [],
   "execution_count": 23
  },
  {
   "metadata": {
    "ExecuteTime": {
     "end_time": "2025-09-21T03:00:15.454797Z",
     "start_time": "2025-09-21T03:00:15.446767Z"
    }
   },
   "cell_type": "code",
   "source": [
    "import yaml\n",
    "from pyspark.sql import SparkSession\n",
    "\n",
    "\n",
    "# Load config.yaml\n",
    "with open(\"../config.yaml\", 'r') as f:\n",
    "    cfg = yaml.safe_load(f)\n",
    "\n",
    " # Initialize Spark Session\n",
    "spark = (SparkSession.builder\n",
    "    .appName(cfg[\"spark\"][\"app_name\"])\n",
    "    .master(cfg[\"spark\"][\"master\"])\n",
    "    .config(\"spark.mongodb.write.connection.uri\", \"mongodb://localhost:27017/retail_db\")\n",
    "    .config(\"spark.jars.packages\", \"org.mongodb.spark:mongo-spark-connector_2.12:10.5.0\")\n",
    "    .getOrCreate())\n",
    "spark"
   ],
   "id": "633b96bf82fe4b74",
   "outputs": [
    {
     "data": {
      "text/plain": [
       "<pyspark.sql.session.SparkSession at 0x7f4aaa547610>"
      ],
      "text/html": [
       "\n",
       "            <div>\n",
       "                <p><b>SparkSession - in-memory</b></p>\n",
       "                \n",
       "        <div>\n",
       "            <p><b>SparkContext</b></p>\n",
       "\n",
       "            <p><a href=\"http://10.255.255.254:4040\">Spark UI</a></p>\n",
       "\n",
       "            <dl>\n",
       "              <dt>Version</dt>\n",
       "                <dd><code>v3.5.2</code></dd>\n",
       "              <dt>Master</dt>\n",
       "                <dd><code>local[*]</code></dd>\n",
       "              <dt>AppName</dt>\n",
       "                <dd><code>NovaRetailMongoPipeline</code></dd>\n",
       "            </dl>\n",
       "        </div>\n",
       "        \n",
       "            </div>\n",
       "        "
      ]
     },
     "execution_count": 24,
     "metadata": {},
     "output_type": "execute_result"
    }
   ],
   "execution_count": 24
  },
  {
   "metadata": {
    "ExecuteTime": {
     "end_time": "2025-09-21T03:00:15.516866Z",
     "start_time": "2025-09-21T03:00:15.504310Z"
    }
   },
   "cell_type": "code",
   "source": "print(spark.sparkContext.getConf().get(\"spark.jars\"))",
   "id": "a830290f840f0352",
   "outputs": [
    {
     "name": "stdout",
     "output_type": "stream",
     "text": [
      "file:///home/prabin/.ivy2/jars/org.mongodb.spark_mongo-spark-connector_2.12-10.5.0.jar,file:///home/prabin/.ivy2/jars/org.mongodb_mongodb-driver-sync-5.1.4.jar,file:///home/prabin/.ivy2/jars/org.mongodb_bson-5.1.4.jar,file:///home/prabin/.ivy2/jars/org.mongodb_mongodb-driver-core-5.1.4.jar,file:///home/prabin/.ivy2/jars/org.mongodb_bson-record-codec-5.1.4.jar\n"
     ]
    }
   ],
   "execution_count": 25
  },
  {
   "metadata": {},
   "cell_type": "markdown",
   "source": [
    "## Data Ingestion\n",
    "We are loading batch load of historical sales and customers data and a stimulated mini-stream files drop for inventory sensor events."
   ],
   "id": "c004ee281f211175"
  },
  {
   "metadata": {
    "ExecuteTime": {
     "end_time": "2025-09-21T03:00:15.564233Z",
     "start_time": "2025-09-21T03:00:15.561971Z"
    }
   },
   "cell_type": "code",
   "source": [
    "# Configuring path for global use\n",
    "sales_path = project_root/ \"data\" / \"raw\" /\"sales_data.csv\"\n",
    "customers_path = project_root/ \"data\" / \"raw\" /\"customers_data.csv\"\n",
    "inventory_path = project_root/ \"data\" / \"raw\" /\"inventory_stream\""
   ],
   "id": "7a3cfc46e59a85c1",
   "outputs": [],
   "execution_count": 26
  },
  {
   "metadata": {
    "ExecuteTime": {
     "end_time": "2025-09-21T03:00:15.789034Z",
     "start_time": "2025-09-21T03:00:15.612095Z"
    }
   },
   "cell_type": "code",
   "source": [
    "sales_df = spark.read.csv(str(sales_path), header=True, inferSchema=True)\n",
    "customers_df = spark.read.csv(str(customers_path), header=True, inferSchema=True)\n",
    "\n",
    "sales_df.show(5)\n",
    "customers_df.show(5)\n"
   ],
   "id": "d0109c6abadb04d0",
   "outputs": [
    {
     "name": "stdout",
     "output_type": "stream",
     "text": [
      "+------+--------+------+--------+-----------+--------+-------+\n",
      "|txn_id|    date|sku_id|store_id|customer_id|quantity|  price|\n",
      "+------+--------+------+--------+-----------+--------+-------+\n",
      "|  T522|20250830|  P001|    X001|       C001|      18|1719.85|\n",
      "|  T618|20250830|  P001|    X001|       C001|      11|1192.01|\n",
      "|  T424|20250830|  P001|    X001|       C004|      26|2613.83|\n",
      "|  T565|20250830|  P001|    X001|       C001|      50|5315.88|\n",
      "|  T686|20250830|  P001|    X001|       C001|      45|4468.59|\n",
      "+------+--------+------+--------+-----------+--------+-------+\n",
      "only showing top 5 rows\n",
      "\n",
      "+-----------+-------------+------------+-----------+\n",
      "|customer_id|last_purchase|total_orders|total_spend|\n",
      "+-----------+-------------+------------+-----------+\n",
      "|       C001|     20250828|          36|       6516|\n",
      "|       C002|     20250826|          27|       5292|\n",
      "|       C003|     20250823|          26|       2574|\n",
      "|       C004|     20250828|          37|       2331|\n",
      "+-----------+-------------+------------+-----------+\n",
      "\n"
     ]
    }
   ],
   "execution_count": 27
  },
  {
   "metadata": {},
   "cell_type": "markdown",
   "source": "We have to define schema for Spark as Spark would not know the schema for inventory as we will be uploading inventory stream batch files incrementally.",
   "id": "6c0be4ffa2ad6be6"
  },
  {
   "metadata": {
    "ExecuteTime": {
     "end_time": "2025-09-21T03:00:15.808833Z",
     "start_time": "2025-09-21T03:00:15.797103Z"
    }
   },
   "cell_type": "code",
   "source": [
    "from pyspark.sql.types import StructType, StructField, StringType, DoubleType\n",
    "\n",
    "# Define Schema\n",
    "inventory_schema = StructType([\n",
    "    StructField(\"timestamp\", StringType(), True),\n",
    "    StructField(\"store_id\", StringType(), True),\n",
    "    StructField(\"sku_id\", StringType(), True),\n",
    "    StructField(\"on_stock\", DoubleType(), True),\n",
    "])\n",
    "\n",
    "# Read streaming JSON with mini-batch drops\n",
    "inventory_df = spark.readStream \\\n",
    "    .format(\"json\") \\\n",
    "    .schema(inventory_schema) \\\n",
    "    .option(\"maxFilesPerTrigger\",1) \\\n",
    "    .load(str(inventory_path))\n",
    "\n",
    "inventory_df.printSchema()\n",
    "\n"
   ],
   "id": "b13cd1f284467734",
   "outputs": [
    {
     "name": "stdout",
     "output_type": "stream",
     "text": [
      "root\n",
      " |-- timestamp: string (nullable = true)\n",
      " |-- store_id: string (nullable = true)\n",
      " |-- sku_id: string (nullable = true)\n",
      " |-- on_stock: double (nullable = true)\n",
      "\n"
     ]
    }
   ],
   "execution_count": 28
  },
  {
   "metadata": {},
   "cell_type": "markdown",
   "source": [
    "## Processing Layer - Curate the Data\n",
    "### Daily item-store sales\n",
    "It tells us how many items were in stock for each SKU at each store per day. This is the foundation for demand calculations.\n",
    "### Moving Average Demand\n",
    "It helps us smooth out fluctuations and detect trends. For streaming , we can compute it using window functions.\n",
    "### Stock-Out Risk Signal\n",
    "It shows risk signals for Stock-Out.\n",
    "### RFM Analysis On Customers\n",
    "It involves Recency which means how recently a customer purchased, Frequency means how often a customer purchased and Monetary means total spend.\n"
   ],
   "id": "d878b1face15d23f"
  },
  {
   "metadata": {},
   "cell_type": "markdown",
   "source": "# Base function to serve MongoDB",
   "id": "c6065f7c446bb18"
  },
  {
   "metadata": {
    "ExecuteTime": {
     "end_time": "2025-09-21T03:00:15.854183Z",
     "start_time": "2025-09-21T03:00:15.852060Z"
    }
   },
   "cell_type": "code",
   "source": [
    "mongo_uri = cfg[\"mongodb\"][\"uri\"]\n",
    "mongo_db = cfg[\"mongodb\"][\"database\"]\n",
    "collections = cfg[\"mongodb\"][\"collections\"]\n",
    "\n",
    "# Threshold stock quantity min\n",
    "stock_threshold = cfg[\"thresholds\"][\"stock_out_qty\"]"
   ],
   "id": "fd222379fb3e853",
   "outputs": [],
   "execution_count": 29
  },
  {
   "metadata": {
    "ExecuteTime": {
     "end_time": "2025-09-21T03:00:15.904333Z",
     "start_time": "2025-09-21T03:00:15.902133Z"
    }
   },
   "cell_type": "code",
   "source": [
    "def write_to_mongo(df, collection_key, mode=\"overwrite\"):\n",
    "    collection_name = collections[collection_key]\n",
    "    df.write \\\n",
    "      .format(\"mongodb\") \\\n",
    "      .mode(mode) \\\n",
    "      .option(\"spark.mongodb.output.uri\", mongo_uri) \\\n",
    "      .option(\"database\", mongo_db) \\\n",
    "      .option(\"collection\", collection_name) \\\n",
    "      .save()\n",
    "\n"
   ],
   "id": "a139628bc943980c",
   "outputs": [],
   "execution_count": 30
  },
  {
   "metadata": {},
   "cell_type": "markdown",
   "source": "# Daily Item-Store Sales And Moving Average OF Quantity",
   "id": "84bbf6c83872e35d"
  },
  {
   "metadata": {
    "ExecuteTime": {
     "end_time": "2025-09-21T03:00:16.334920Z",
     "start_time": "2025-09-21T03:00:15.954751Z"
    }
   },
   "cell_type": "code",
   "source": [
    "from pyspark.sql import functions as f\n",
    "from pyspark.sql.window import Window\n",
    "\n",
    "# Aggregate sales at store, date and sku level\n",
    "sales_df = sales_df.withColumn(\"date\", f.to_date(f.col(\"date\").cast(\"string\"), \"yyyyMMdd\"))\n",
    "daily_item_store = sales_df.groupby(\"date\", \"store_id\", \"sku_id\") \\\n",
    "    .agg(\n",
    "    f.sum(\"quantity\").alias(\"total_qty\"),\n",
    "    f.round(f.sum(\"price\"),2).alias(\"total_sales\"),\n",
    "    f.round(f.avg(\"price\"), 2).alias(\"avg_price\"),\n",
    "    f.max(\"price\").alias(\"max_price\"),\n",
    "    f.min(\"price\").alias(\"min_price\")\n",
    ")\n",
    "\n",
    "# Moving Average of Quantity/Demand\n",
    "window_spec = Window.partitionBy(\"store_id\", \"sku_id\").orderBy(\"date\").rowsBetween(-6,0)\n",
    "daily_item_store = daily_item_store.withColumn(\n",
    "    \"moving_avg_qty\",\n",
    "    f.round(f.avg(\"total_qty\").over(window_spec), 2)  # round to 2 decimals\n",
    ")\n",
    "\n",
    "\n",
    "# Performance optimizations\n",
    "\n",
    "# Partition distributes DataFrame across Spark partitions based on store_id and sku_id. This helps reduce shuffling when performing joins or window operation because rows with the same store and SKU end up in the same partition. It improves performance for subsequent operations like window functions or aggregations.\n",
    "daily_item_store = daily_item_store.repartition(\"store_id\", \"sku_id\")\n",
    "\n",
    "# If the following DataFrame is used multiple times, Spark doesn't need to recompute it from scratch each time. This speeds up repeated operations and avoids redundant computations.\n",
    "daily_item_store = daily_item_store.cache()\n",
    "\n",
    "daily_item_store.show(5)\n",
    "\n",
    "write_to_mongo(daily_item_store, \"sales\") # Pushes curated sales data to MongoDB"
   ],
   "id": "70da52bee5502af5",
   "outputs": [
    {
     "name": "stderr",
     "output_type": "stream",
     "text": [
      "25/09/21 13:00:15 WARN CacheManager: Asked to cache already cached data.\n"
     ]
    },
    {
     "name": "stdout",
     "output_type": "stream",
     "text": [
      "+----------+--------+------+---------+-----------+---------+---------+---------+--------------+\n",
      "|      date|store_id|sku_id|total_qty|total_sales|avg_price|max_price|min_price|moving_avg_qty|\n",
      "+----------+--------+------+---------+-----------+---------+---------+---------+--------------+\n",
      "|2025-08-30|    X002|  P002|      161|   32226.96|  4028.37|  8834.62|  1279.78|         161.0|\n",
      "|2025-08-31|    X002|  P002|      226|   45238.43|   5654.8|  9948.41|  1303.38|         193.5|\n",
      "|2025-09-01|    X002|  P002|       80|   15406.49|   3081.3|   5835.6|  1475.39|        155.67|\n",
      "|2025-09-02|    X002|  P002|      214|    41073.2|   5867.6| 10071.92|  2118.02|        170.25|\n",
      "|2025-09-03|    X002|  P002|      141|   28619.31|  5723.86|  9367.63|  1433.37|         164.4|\n",
      "+----------+--------+------+---------+-----------+---------+---------+---------+--------------+\n",
      "only showing top 5 rows\n",
      "\n"
     ]
    }
   ],
   "execution_count": 31
  },
  {
   "metadata": {},
   "cell_type": "markdown",
   "source": "# Stock-Out Risk Signal",
   "id": "e0177f14fa8a5dbf"
  },
  {
   "metadata": {
    "ExecuteTime": {
     "end_time": "2025-09-21T03:00:26.419674Z",
     "start_time": "2025-09-21T03:00:16.363499Z"
    }
   },
   "cell_type": "code",
   "source": [
    "# Join inventory with daily_item_store to get moving_avg_qty for that SKU and store\n",
    "inventory_with_sales = inventory_df.withColumn(\"date_only\", f.to_date(\"timestamp\")).join(\n",
    "    daily_item_store.withColumnRenamed(\"date\", \"date_only\")\n",
    "    .select(\"store_id\", \"sku_id\", \"date_only\", \"moving_avg_qty\"),\n",
    "    on=[\"store_id\", \"sku_id\", \"date_only\"],\n",
    "    how=\"left\"\n",
    ")\n",
    "inventory_with_sales = inventory_with_sales.withColumn(\n",
    "    \"stock_out_signal\",\n",
    "    f.when(f.col(\"moving_avg_qty\").isNotNull() & (f.col(\"on_stock\") <= f.col(\"moving_avg_qty\")), 1)\n",
    "     .otherwise(0)\n",
    ")\n",
    "\n",
    " # Partition to improve joins and window ops\n",
    "inventory_with_sales = inventory_with_sales.repartition(\"store_id\", \"sku_id\")\n",
    "\n",
    "# Streaming DataFrames cannot be cached.\n",
    "\n",
    "# Risk signal will be stored in MongoDB. Write method cannot be used in streaming DataFrames. We will have to use writeStream for this DataFrame\n",
    "\n",
    "# Spark requires checkpoints to keep track of what data has been already processed.\n",
    "\n",
    "# Path for checkpoint and make sure it exists\n",
    "checkpoint_path = Path(project_root / \"checkpoints\" / \"inventory_stock\")\n",
    "checkpoint_path.mkdir(parents=True, exist_ok=True)\n",
    "\n",
    "# Stores risk signal in MongoDB\n",
    "# --- Write streaming data to MongoDB (append mode) ---\n",
    "stream_query = inventory_with_sales.writeStream \\\n",
    "    .format(\"mongodb\") \\\n",
    "    .option(\"spark.mongodb.output.uri\", mongo_uri) \\\n",
    "    .option(\"database\", mongo_db) \\\n",
    "    .option(\"collection\", \"stock\") \\\n",
    "    .option(\"checkpointLocation\", str(checkpoint_path / \"mongo_checkpoint\")) \\\n",
    "    .outputMode(\"append\") \\\n",
    "    .start()\n",
    "\n",
    "# --- Optional: monitor stream until all batches processed ---\n",
    "stream_query.awaitTermination(10) # Wait 10 seconds\n",
    "stream_query.stop()"
   ],
   "id": "866b6d5a2cb94c2e",
   "outputs": [
    {
     "name": "stderr",
     "output_type": "stream",
     "text": [
      "25/09/21 13:00:16 WARN ResolveWriteToStream: spark.sql.adaptive.enabled is not supported in streaming DataFrames/Datasets and will be disabled.\n",
      "25/09/21 13:00:16 WARN CaseInsensitiveStringMap: Converting duplicated key checkpointLocation into CaseInsensitiveStringMap.\n",
      "25/09/21 13:00:16 WARN CaseInsensitiveStringMap: Converting duplicated key checkpointLocation into CaseInsensitiveStringMap.\n",
      "25/09/21 13:00:16 WARN CaseInsensitiveStringMap: Converting duplicated key checkpointLocation into CaseInsensitiveStringMap.\n",
      "25/09/21 13:00:16 WARN CaseInsensitiveStringMap: Converting duplicated key checkpointLocation into CaseInsensitiveStringMap.\n",
      "25/09/21 13:00:16 WARN CaseInsensitiveStringMap: Converting duplicated key checkpointLocation into CaseInsensitiveStringMap.\n",
      "25/09/21 13:00:16 WARN CaseInsensitiveStringMap: Converting duplicated key checkpointLocation into CaseInsensitiveStringMap.\n",
      "25/09/21 13:00:17 WARN CaseInsensitiveStringMap: Converting duplicated key checkpointLocation into CaseInsensitiveStringMap.\n",
      "25/09/21 13:00:17 WARN CaseInsensitiveStringMap: Converting duplicated key checkpointLocation into CaseInsensitiveStringMap.\n",
      "25/09/21 13:00:17 WARN CaseInsensitiveStringMap: Converting duplicated key checkpointLocation into CaseInsensitiveStringMap.\n",
      "25/09/21 13:00:17 WARN CaseInsensitiveStringMap: Converting duplicated key checkpointLocation into CaseInsensitiveStringMap.\n",
      "25/09/21 13:00:17 WARN CaseInsensitiveStringMap: Converting duplicated key checkpointLocation into CaseInsensitiveStringMap.\n",
      "25/09/21 13:00:17 WARN CaseInsensitiveStringMap: Converting duplicated key checkpointLocation into CaseInsensitiveStringMap.\n",
      "25/09/21 13:00:17 WARN CaseInsensitiveStringMap: Converting duplicated key checkpointLocation into CaseInsensitiveStringMap.\n",
      "25/09/21 13:00:17 WARN CaseInsensitiveStringMap: Converting duplicated key checkpointLocation into CaseInsensitiveStringMap.\n",
      "25/09/21 13:00:17 WARN CaseInsensitiveStringMap: Converting duplicated key checkpointLocation into CaseInsensitiveStringMap.\n",
      "25/09/21 13:00:18 WARN CaseInsensitiveStringMap: Converting duplicated key checkpointLocation into CaseInsensitiveStringMap.\n",
      "25/09/21 13:00:18 WARN CaseInsensitiveStringMap: Converting duplicated key checkpointLocation into CaseInsensitiveStringMap.\n",
      "25/09/21 13:00:18 WARN CaseInsensitiveStringMap: Converting duplicated key checkpointLocation into CaseInsensitiveStringMap.\n"
     ]
    }
   ],
   "execution_count": 32
  },
  {
   "metadata": {},
   "cell_type": "markdown",
   "source": "## Stream mini-stimulation query",
   "id": "69e2872edd63f076"
  },
  {
   "metadata": {
    "ExecuteTime": {
     "end_time": "2025-09-21T03:00:28.517189Z",
     "start_time": "2025-09-21T03:00:26.481143Z"
    }
   },
   "cell_type": "code",
   "source": [
    "console_query = inventory_with_sales.writeStream \\\n",
    "    .format(\"console\") \\\n",
    "    .option(\"truncate\", False) \\\n",
    "    .option(\"numRows\", 20) \\\n",
    "    .option(\"checkpointLocation\", str(checkpoint_path / \"console_checkpoint\")) \\\n",
    "    .start()\n",
    "\n",
    "# Stop after 5 batches\n",
    "batch_count = 0\n",
    "while batch_count < 5:\n",
    "    console_query.awaitTermination(1)  # wait 1 sec per loop\n",
    "    batch_count = len(console_query.recentProgress)\n",
    "\n",
    "console_query.stop()\n",
    "print(\"Stopped stream after 5 batches\")\n"
   ],
   "id": "5edfe9a9a45b88a",
   "outputs": [
    {
     "name": "stderr",
     "output_type": "stream",
     "text": [
      "25/09/21 13:00:26 WARN ResolveWriteToStream: spark.sql.adaptive.enabled is not supported in streaming DataFrames/Datasets and will be disabled.\n"
     ]
    },
    {
     "name": "stdout",
     "output_type": "stream",
     "text": [
      "-------------------------------------------\n",
      "Batch: 0\n",
      "-------------------------------------------\n",
      "+--------+------+----------+-------------------+--------+--------------+----------------+\n",
      "|store_id|sku_id|date_only |timestamp          |on_stock|moving_avg_qty|stock_out_signal|\n",
      "+--------+------+----------+-------------------+--------+--------------+----------------+\n",
      "|X002    |P002  |2025-08-31|2025-08-31T14:27:13|175.0   |193.5         |1               |\n",
      "|X002    |P003  |2025-08-31|2025-08-31T22:54:10|205.0   |199.5         |0               |\n",
      "|X001    |P001  |2025-08-31|2025-08-31T16:51:03|252.0   |258.0         |1               |\n",
      "|X002    |P001  |2025-08-31|2025-08-31T20:13:28|113.0   |179.5         |1               |\n",
      "|X001    |P003  |2025-08-31|2025-08-31T19:38:33|212.0   |112.0         |0               |\n",
      "|X001    |P002  |2025-08-31|2025-08-31T07:07:16|146.0   |240.5         |1               |\n",
      "+--------+------+----------+-------------------+--------+--------------+----------------+\n",
      "\n",
      "-------------------------------------------\n",
      "Batch: 1\n",
      "-------------------------------------------\n",
      "+--------+------+----------+-------------------+--------+--------------+----------------+\n",
      "|store_id|sku_id|date_only |timestamp          |on_stock|moving_avg_qty|stock_out_signal|\n",
      "+--------+------+----------+-------------------+--------+--------------+----------------+\n",
      "|X002    |P002  |2025-09-04|2025-09-04T02:08:49|203.0   |177.17        |0               |\n",
      "|X002    |P003  |2025-09-04|2025-09-04T03:40:51|114.0   |183.83        |1               |\n",
      "|X001    |P001  |2025-09-04|2025-09-04T18:22:08|103.0   |260.83        |1               |\n",
      "|X002    |P001  |2025-09-04|2025-09-04T15:02:48|288.0   |232.67        |0               |\n",
      "|X001    |P003  |2025-09-04|2025-09-04T05:06:57|216.0   |182.17        |0               |\n",
      "|X001    |P002  |2025-09-04|2025-09-04T01:36:11|297.0   |199.33        |0               |\n",
      "+--------+------+----------+-------------------+--------+--------------+----------------+\n",
      "\n",
      "-------------------------------------------\n",
      "Batch: 2\n",
      "-------------------------------------------\n",
      "+--------+------+----------+-------------------+--------+--------------+----------------+\n",
      "|store_id|sku_id|date_only |timestamp          |on_stock|moving_avg_qty|stock_out_signal|\n",
      "+--------+------+----------+-------------------+--------+--------------+----------------+\n",
      "|X002    |P002  |2025-09-03|2025-09-03T23:48:01|179.0   |164.4         |0               |\n",
      "|X002    |P003  |2025-09-03|2025-09-03T05:28:57|267.0   |196.6         |0               |\n",
      "|X001    |P001  |2025-09-03|2025-09-03T03:52:39|178.0   |283.8         |1               |\n",
      "|X002    |P001  |2025-09-03|2025-09-03T04:08:20|226.0   |224.2         |0               |\n",
      "|X001    |P003  |2025-09-03|2025-09-03T23:37:36|300.0   |180.4         |0               |\n",
      "|X001    |P002  |2025-09-03|2025-09-03T04:53:55|169.0   |201.0         |1               |\n",
      "+--------+------+----------+-------------------+--------+--------------+----------------+\n",
      "\n",
      "-------------------------------------------\n",
      "Batch: 3\n",
      "-------------------------------------------\n",
      "+--------+------+----------+-------------------+--------+--------------+----------------+\n",
      "|store_id|sku_id|date_only |timestamp          |on_stock|moving_avg_qty|stock_out_signal|\n",
      "+--------+------+----------+-------------------+--------+--------------+----------------+\n",
      "|X002    |P002  |2025-09-01|2025-09-01T13:05:37|235.0   |155.67        |0               |\n",
      "|X002    |P003  |2025-09-01|2025-09-01T11:45:53|299.0   |231.33        |0               |\n",
      "|X001    |P001  |2025-09-01|2025-09-01T12:00:02|205.0   |271.33        |1               |\n",
      "|X002    |P001  |2025-09-01|2025-09-01T20:50:38|241.0   |213.33        |0               |\n",
      "|X001    |P003  |2025-09-01|2025-09-01T03:39:49|198.0   |157.0         |0               |\n",
      "|X001    |P002  |2025-09-01|2025-09-01T10:38:11|281.0   |208.0         |0               |\n",
      "+--------+------+----------+-------------------+--------+--------------+----------------+\n",
      "\n",
      "-------------------------------------------\n",
      "Batch: 4\n",
      "-------------------------------------------\n",
      "+--------+------+----------+-------------------+--------+--------------+----------------+\n",
      "|store_id|sku_id|date_only |timestamp          |on_stock|moving_avg_qty|stock_out_signal|\n",
      "+--------+------+----------+-------------------+--------+--------------+----------------+\n",
      "|X002    |P002  |2025-09-02|2025-09-02T05:15:52|107.0   |170.25        |1               |\n",
      "|X002    |P003  |2025-09-02|2025-09-02T21:08:38|143.0   |220.25        |1               |\n",
      "|X001    |P001  |2025-09-02|2025-09-02T16:03:11|261.0   |274.5         |1               |\n",
      "|X002    |P001  |2025-09-02|2025-09-02T19:41:15|237.0   |232.75        |0               |\n",
      "|X001    |P003  |2025-09-02|2025-09-02T22:45:06|258.0   |172.25        |0               |\n",
      "|X001    |P002  |2025-09-02|2025-09-02T22:11:26|144.0   |185.0         |1               |\n",
      "+--------+------+----------+-------------------+--------+--------------+----------------+\n",
      "\n",
      "-------------------------------------------\n",
      "Batch: 5\n",
      "-------------------------------------------\n",
      "+--------+------+----------+-------------------+--------+--------------+----------------+\n",
      "|store_id|sku_id|date_only |timestamp          |on_stock|moving_avg_qty|stock_out_signal|\n",
      "+--------+------+----------+-------------------+--------+--------------+----------------+\n",
      "|X002    |P002  |2025-08-30|2025-08-30T12:56:37|200.0   |161.0         |0               |\n",
      "|X002    |P003  |2025-08-30|2025-08-30T12:18:33|243.0   |312.0         |1               |\n",
      "|X001    |P001  |2025-08-30|2025-08-30T21:41:30|154.0   |266.0         |1               |\n",
      "|X002    |P001  |2025-08-30|2025-08-30T17:31:01|175.0   |207.0         |1               |\n",
      "|X001    |P003  |2025-08-30|2025-08-30T18:12:53|255.0   |133.0         |0               |\n",
      "|X001    |P002  |2025-08-30|2025-08-30T09:22:18|215.0   |281.0         |1               |\n",
      "+--------+------+----------+-------------------+--------+--------------+----------------+\n",
      "\n",
      "Stopped stream after 5 batches\n"
     ]
    }
   ],
   "execution_count": 33
  },
  {
   "metadata": {},
   "cell_type": "markdown",
   "source": "## RFM features for customers",
   "id": "3e3897015cc2c365"
  },
  {
   "metadata": {
    "ExecuteTime": {
     "end_time": "2025-09-21T03:00:28.924943Z",
     "start_time": "2025-09-21T03:00:28.573714Z"
    }
   },
   "cell_type": "code",
   "source": [
    "# Convert last_purchase to proper date\n",
    "customers_df = customers_df.withColumn(\n",
    "    \"last_purchase_date\",\n",
    "    f.to_date(\"last_purchase\", \"yyyyMMdd\")\n",
    ")\n",
    "\n",
    "\n",
    "#reference date, the day analysis is done\n",
    "reference_date = \"2025-09-20\"\n",
    "\n",
    "# Compute RFM\n",
    "rfm = customers_df.withColumn(\n",
    "    \"recency\", f.datediff(f.lit(reference_date), f.col(\"last_purchase_date\"))\n",
    ").withColumn(\n",
    "    \"frequency\", f.col(\"total_orders\").cast(\"int\")\n",
    ").withColumn(\n",
    "    \"monetary\", f.col(\"total_spend\").cast(\"double\")\n",
    ").select(\"customer_id\", \"last_purchase_date\", \"recency\", \"frequency\", \"monetary\")\n",
    "\n",
    "# Compute RFM scoring\n",
    "\n",
    "#Computing quantiles for dynamic scoring\n",
    "recency_q = rfm.approxQuantile(\"recency\",[0.25,0.5,0.75],0)\n",
    "frequency_q = rfm.approxQuantile(\"frequency\",[0.25,0.5,0.75],0)\n",
    "monetary_q = rfm.approxQuantile(\"monetary\",[0.25,0.5,0.75],0)\n",
    "\n",
    "\n",
    "# Recency: lower recency = higher score\n",
    "rfm = rfm.withColumn(\n",
    "    \"recency_score\",\n",
    "    f.when(f.col(\"recency\") <= recency_q[0], 4)\n",
    "     .when(f.col(\"recency\") <= recency_q[1], 3)\n",
    "     .when(f.col(\"recency\") <= recency_q[2], 2)\n",
    "     .otherwise(1)\n",
    ")\n",
    "\n",
    "# Frequency: higher frequency = higher score\n",
    "rfm = rfm.withColumn(\n",
    "    \"frequency_score\",\n",
    "    f.when(f.col(\"frequency\") >= frequency_q[2], 4)\n",
    "     .when(f.col(\"frequency\") >= frequency_q[1], 3)\n",
    "     .when(f.col(\"frequency\") >= frequency_q[0], 2)\n",
    "     .otherwise(1)\n",
    ")\n",
    "\n",
    "# Monetary: higher spend = higher score\n",
    "rfm = rfm.withColumn(\n",
    "    \"monetary_score\",\n",
    "    f.when(f.col(\"monetary\") >= monetary_q[2], 4)\n",
    "     .when(f.col(\"monetary\") >= monetary_q[1], 3)\n",
    "     .when(f.col(\"monetary\") >= monetary_q[0], 2)\n",
    "     .otherwise(1)\n",
    ")\n",
    "\n",
    "rfm= rfm.withColumn(\n",
    "    \"RFM_total_score\",\n",
    "    f.col(\"recency_score\") + f.col(\"frequency_score\") + f.col(\"monetary_score\")\n",
    ")\n",
    "\n",
    "rfm.select(\"customer_id\", \"last_purchase_date\", \"recency\", \"frequency\", \"monetary\", \"recency_score\", \"frequency_score\", \"monetary_score\", \"RFM_total_score\").show(truncate=False)\n",
    "\n",
    "# Repartition to improve parallelism\n",
    "rfm = rfm.repartition(\"customer_id\")\n",
    "\n",
    "# Caching avoids recomputation\n",
    "rfm = rfm.cache()\n",
    "\n",
    "# Push curated data to mongoDB\n",
    "write_to_mongo(rfm, \"customers\")\n"
   ],
   "id": "f3b9b3f32bcb18f8",
   "outputs": [
    {
     "name": "stdout",
     "output_type": "stream",
     "text": [
      "+-----------+------------------+-------+---------+--------+-------------+---------------+--------------+---------------+\n",
      "|customer_id|last_purchase_date|recency|frequency|monetary|recency_score|frequency_score|monetary_score|RFM_total_score|\n",
      "+-----------+------------------+-------+---------+--------+-------------+---------------+--------------+---------------+\n",
      "|C001       |2025-08-28        |23     |36       |6516.0  |4            |4              |4             |12             |\n",
      "|C002       |2025-08-26        |25     |27       |5292.0  |2            |3              |4             |9              |\n",
      "|C003       |2025-08-23        |28     |26       |2574.0  |1            |2              |3             |6              |\n",
      "|C004       |2025-08-28        |23     |37       |2331.0  |4            |4              |2             |10             |\n",
      "+-----------+------------------+-------+---------+--------+-------------+---------------+--------------+---------------+\n",
      "\n"
     ]
    },
    {
     "name": "stderr",
     "output_type": "stream",
     "text": [
      "25/09/21 13:00:28 WARN CacheManager: Asked to cache already cached data.\n"
     ]
    }
   ],
   "execution_count": 34
  },
  {
   "metadata": {},
   "cell_type": "markdown",
   "source": "# Stock_out Prediction Model",
   "id": "93be90d32b576198"
  },
  {
   "metadata": {
    "ExecuteTime": {
     "end_time": "2025-09-21T03:00:28.954908Z",
     "start_time": "2025-09-21T03:00:28.939546Z"
    }
   },
   "cell_type": "code",
   "source": [
    "stock_df = spark.read.format(\"mongodb\") \\\n",
    "    .option(\"spark.mongodb.read.connection.uri\", \"mongodb://localhost:27017\") \\\n",
    "    .option(\"spark.mongodb.read.database\", \"retail_db\") \\\n",
    "    .option(\"spark.mongodb.read.collection\", \"stock\") \\\n",
    "    .load()\n"
   ],
   "id": "fa5533ead4879a4e",
   "outputs": [],
   "execution_count": 35
  },
  {
   "metadata": {
    "ExecuteTime": {
     "end_time": "2025-09-21T03:00:29.008071Z",
     "start_time": "2025-09-21T03:00:29.005051Z"
    }
   },
   "cell_type": "code",
   "source": "stock_df.printSchema()",
   "id": "ab32693ac20bef7",
   "outputs": [
    {
     "name": "stdout",
     "output_type": "stream",
     "text": [
      "root\n",
      " |-- _id: string (nullable = true)\n",
      " |-- date: timestamp (nullable = true)\n",
      " |-- date_only: timestamp (nullable = true)\n",
      " |-- moving_avg_qty: double (nullable = true)\n",
      " |-- on_stock: double (nullable = true)\n",
      " |-- sku_id: string (nullable = true)\n",
      " |-- stock_out_signal: integer (nullable = true)\n",
      " |-- store_id: string (nullable = true)\n",
      " |-- timestamp: string (nullable = true)\n",
      "\n"
     ]
    }
   ],
   "execution_count": 36
  },
  {
   "metadata": {
    "ExecuteTime": {
     "end_time": "2025-09-21T03:00:29.097101Z",
     "start_time": "2025-09-21T03:00:29.052960Z"
    }
   },
   "cell_type": "code",
   "source": [
    "stock_df.show(5)\n",
    "df = stock_df.limit(1000) # As stock was a streaming DataFrame , I have to make it static to process and train model."
   ],
   "id": "e392ba2cd13f0c4f",
   "outputs": [
    {
     "name": "stdout",
     "output_type": "stream",
     "text": [
      "+--------------------+-------------------+---------+--------------+--------+------+----------------+--------+-------------------+\n",
      "|                 _id|               date|date_only|moving_avg_qty|on_stock|sku_id|stock_out_signal|store_id|          timestamp|\n",
      "+--------------------+-------------------+---------+--------------+--------+------+----------------+--------+-------------------+\n",
      "|68ce7b3b5168644cc...|2025-08-31 00:00:00|     NULL|         200.0|    50.0|  P001|               1|    X001|2025-08-31T13:06:28|\n",
      "|68ce7b3b5168644cc...|2025-08-31 00:00:00|     NULL|         236.5|    83.0|  P003|               1|    X002|2025-08-31T20:53:37|\n",
      "|68ce7b3b5168644cc...|2025-08-31 00:00:00|     NULL|         198.5|    26.0|  P001|               1|    X002|2025-08-31T11:40:18|\n",
      "|68ce7b3b5168644cc...|2025-08-31 00:00:00|     NULL|         216.0|    33.0|  P002|               1|    X002|2025-08-31T02:40:08|\n",
      "|68ce7b3b5168644cc...|2025-08-31 00:00:00|     NULL|         179.0|    58.0|  P003|               1|    X001|2025-08-31T14:25:18|\n",
      "+--------------------+-------------------+---------+--------------+--------+------+----------------+--------+-------------------+\n",
      "only showing top 5 rows\n",
      "\n"
     ]
    }
   ],
   "execution_count": 37
  },
  {
   "metadata": {},
   "cell_type": "markdown",
   "source": "## Prepare Data",
   "id": "85bf254eac601d80"
  },
  {
   "metadata": {
    "ExecuteTime": {
     "end_time": "2025-09-21T03:00:29.144046Z",
     "start_time": "2025-09-21T03:00:29.117346Z"
    }
   },
   "cell_type": "code",
   "source": [
    "# Drop unnecessary columns\n",
    "df = df.drop(\"_id\", \"date\", \"date_only\")\n",
    "\n",
    "#Extract timestamp features\n",
    "\n",
    "df = df.withColumn(\"ts\", f.to_timestamp(\"timestamp\")) \\\n",
    "    .withColumn(\"day_of_week\", f.dayofweek(\"ts\")) \\\n",
    "    .withColumn(\"month\", f.month(\"ts\")) \\\n",
    "    .withColumn(\"day\", f.dayofmonth(\"ts\")) \\\n",
    "    .withColumn(\"hour\", f.hour(\"ts\")) \\\n",
    "    .withColumn(\"is_weekend\", f.when(f.dayofweek(\"ts\").isin([1,7]),1).otherwise(0))\n",
    "\n"
   ],
   "id": "7cd1dca60037b006",
   "outputs": [],
   "execution_count": 38
  },
  {
   "metadata": {
    "ExecuteTime": {
     "end_time": "2025-09-21T03:00:29.345817Z",
     "start_time": "2025-09-21T03:00:29.182149Z"
    }
   },
   "cell_type": "code",
   "source": [
    "\n",
    "df.select([f.count(f.when(f.col(c).isNull(), c)).alias(c) for c in df.columns]).show() # Verify if data has Null values"
   ],
   "id": "24ffeb90da4264d3",
   "outputs": [
    {
     "name": "stdout",
     "output_type": "stream",
     "text": [
      "+--------------+--------+------+----------------+--------+---------+---+-----------+-----+---+----+----------+\n",
      "|moving_avg_qty|on_stock|sku_id|stock_out_signal|store_id|timestamp| ts|day_of_week|month|day|hour|is_weekend|\n",
      "+--------------+--------+------+----------------+--------+---------+---+-----------+-----+---+----+----------+\n",
      "|             0|       0|     0|               0|       0|        0|  0|          0|    0|  0|   0|         0|\n",
      "+--------------+--------+------+----------------+--------+---------+---+-----------+-----+---+----+----------+\n",
      "\n"
     ]
    }
   ],
   "execution_count": 39
  },
  {
   "metadata": {},
   "cell_type": "markdown",
   "source": "## Encode categorical values",
   "id": "a046cbbc434e0733"
  },
  {
   "metadata": {
    "ExecuteTime": {
     "end_time": "2025-09-21T03:02:29.333934Z",
     "start_time": "2025-09-21T03:02:28.882020Z"
    }
   },
   "cell_type": "code",
   "source": [
    "from pyspark.ml.feature import StringIndexer, OneHotEncoder\n",
    "\n",
    "\n",
    "sku_indexer = StringIndexer(inputCol=\"sku_id\", outputCol=\"sku_index\")\n",
    "store_indexer = StringIndexer(inputCol=\"store_id\", outputCol=\"store_index\")\n",
    "\n",
    "sku_encoder = OneHotEncoder(inputCol=\"sku_index\", outputCol=\"sku_vec\")\n",
    "store_encoder = OneHotEncoder(inputCol=\"store_index\", outputCol=\"store_vec\")"
   ],
   "id": "a1580c6a4212df9d",
   "outputs": [],
   "execution_count": 40
  },
  {
   "metadata": {},
   "cell_type": "markdown",
   "source": "## Assemble features",
   "id": "7c399c8108aa6269"
  },
  {
   "metadata": {
    "ExecuteTime": {
     "end_time": "2025-09-21T03:03:22.727819Z",
     "start_time": "2025-09-21T03:03:22.718361Z"
    }
   },
   "cell_type": "code",
   "source": [
    "from pyspark.ml.feature import VectorAssembler\n",
    "\n",
    "feature_cols = [\"on_stock\", \"moving_avg_qty\", \"day_of_week\", \"month\", \"hour\", \"is_weekend\", \"sku_vec\", \"store_vec\"]\n",
    "assembler = VectorAssembler(inputCols=feature_cols, outputCol=\"features\")\n"
   ],
   "id": "4ab2f969d26dc27b",
   "outputs": [],
   "execution_count": 41
  },
  {
   "metadata": {},
   "cell_type": "markdown",
   "source": "## Choosing logistic regression for binary prediction",
   "id": "b6db830b5d244373"
  },
  {
   "metadata": {
    "ExecuteTime": {
     "end_time": "2025-09-21T03:05:44.993146Z",
     "start_time": "2025-09-21T03:05:44.944835Z"
    }
   },
   "cell_type": "code",
   "source": [
    "from pyspark.ml.classification import LogisticRegression\n",
    "\n",
    "lr = LogisticRegression(featuresCol=\"features\", labelCol=\"stock_out_signal\")\n"
   ],
   "id": "40d7a1c3addb8f2c",
   "outputs": [],
   "execution_count": 42
  },
  {
   "metadata": {},
   "cell_type": "markdown",
   "source": [
    "## Building the pipeline\n",
    "It lets us define sequence of steps where the output of one step becomes input for next"
   ],
   "id": "ca0e0a68f7a3f21"
  },
  {
   "metadata": {
    "ExecuteTime": {
     "end_time": "2025-09-21T03:06:38.426695Z",
     "start_time": "2025-09-21T03:06:38.424105Z"
    }
   },
   "cell_type": "code",
   "source": [
    "from pyspark.ml import Pipeline\n",
    "\n",
    "pipeline = Pipeline(stages=[sku_indexer, store_indexer, sku_encoder, store_encoder, assembler, lr])\n"
   ],
   "id": "81cf5810c13dd89a",
   "outputs": [],
   "execution_count": 43
  },
  {
   "metadata": {},
   "cell_type": "markdown",
   "source": "## Train/Test split and training",
   "id": "47d3cd753be7c213"
  },
  {
   "metadata": {
    "ExecuteTime": {
     "end_time": "2025-09-21T03:08:24.703714Z",
     "start_time": "2025-09-21T03:08:23.680628Z"
    }
   },
   "cell_type": "code",
   "source": [
    "train, test = df.randomSplit([0.8, 0.2], seed=52)\n",
    "model = pipeline.fit(train)\n",
    "predictions = model.transform(test)\n"
   ],
   "id": "394ae5ab86bbe44",
   "outputs": [],
   "execution_count": 45
  },
  {
   "metadata": {},
   "cell_type": "markdown",
   "source": "## Evaluate\n",
   "id": "1cc650987b0fee9d"
  },
  {
   "metadata": {
    "ExecuteTime": {
     "end_time": "2025-09-21T03:08:30.708001Z",
     "start_time": "2025-09-21T03:08:30.488862Z"
    }
   },
   "cell_type": "code",
   "source": [
    "from pyspark.ml.evaluation import BinaryClassificationEvaluator\n",
    "\n",
    "evaluator = BinaryClassificationEvaluator(labelCol=\"stock_out_signal\", metricName=\"areaUnderROC\")\n",
    "auc = evaluator.evaluate(predictions)\n",
    "print(\"Test AUC:\", auc)\n"
   ],
   "id": "f27ada0729d4bd41",
   "outputs": [
    {
     "name": "stdout",
     "output_type": "stream",
     "text": [
      "Test AUC: 1.0\n"
     ]
    }
   ],
   "execution_count": 46
  },
  {
   "metadata": {
    "ExecuteTime": {
     "end_time": "2025-09-21T03:12:47.204930Z",
     "start_time": "2025-09-21T03:12:46.958273Z"
    }
   },
   "cell_type": "code",
   "source": [
    "from sklearn.metrics import roc_curve, auc\n",
    "import matplotlib.pyplot as plt\n",
    "\n",
    "# Convert to pandas\n",
    "pdf = predictions.select(\"stock_out_signal\", \"probability\").toPandas()\n",
    "y_true = pdf[\"stock_out_signal\"]\n",
    "y_scores = pdf[\"probability\"].apply(lambda x: x[1])  # probability of stock-out\n",
    "\n",
    "fpr, tpr, thresholds = roc_curve(y_true, y_scores)\n",
    "roc_auc = auc(fpr, tpr)\n",
    "\n",
    "plt.figure(figsize=(6,6))\n",
    "plt.plot(fpr, tpr, color='blue', lw=2, label=f'ROC curve (AUC = {roc_auc:.2f})')\n",
    "plt.plot([0,1], [0,1], color='red', lw=1, linestyle='--')\n",
    "plt.xlabel('False Positive Rate')\n",
    "plt.ylabel('True Positive Rate')\n",
    "plt.title('ROC Curve for Logistic Regression')\n",
    "plt.legend(loc='lower right')\n",
    "plt.grid(True)\n",
    "plt.show()\n"
   ],
   "id": "ea28568e926181e",
   "outputs": [
    {
     "data": {
      "text/plain": [
       "<Figure size 600x600 with 1 Axes>"
      ],
      "image/png": "[encoded data removed]"
     },
     "metadata": {},
     "output_type": "display_data"
    }
   ],
   "execution_count": 54
  },
  {
   "metadata": {},
   "cell_type": "markdown",
   "source": "Maybe the model is generalizing too well due to small dataset. This is better model however suspicious and may not work if threshold is changed or tested on unseen data.",
   "id": "ede5fd766c8eab76"
  },
  {
   "metadata": {},
   "cell_type": "markdown",
   "source": "## Saving the model",
   "id": "e9b3d5459dc03c2e"
  },
  {
   "metadata": {
    "ExecuteTime": {
     "end_time": "2025-09-21T03:17:59.326925Z",
     "start_time": "2025-09-21T03:17:58.230154Z"
    }
   },
   "cell_type": "code",
   "source": [
    "model_path = project_root / \"data\" / \"models\" / \"stock_out_model\"\n",
    "\n",
    "model.write().overwrite().save(str(model_path))\n",
    "print(\"Model saved at:\", model_path)\n"
   ],
   "id": "ee7b555b9c38e13c",
   "outputs": [
    {
     "name": "stdout",
     "output_type": "stream",
     "text": [
      "Model saved at: /home/prabin/projects/BDA311/Nova_retail_assign/data/models/stock_out_model\n"
     ]
    }
   ],
   "execution_count": 57
  },
  {
   "metadata": {},
   "cell_type": "markdown",
   "source": "# Saving test data for model evaluation",
   "id": "7a735f880bd65f83"
  },
  {
   "metadata": {
    "ExecuteTime": {
     "end_time": "2025-09-21T03:38:25.050084Z",
     "start_time": "2025-09-21T03:38:25.047508Z"
    }
   },
   "cell_type": "code",
   "source": [
    "cols_to_save = [\n",
    "    \"on_stock\",\n",
    "    \"moving_avg_qty\",\n",
    "    \"day_of_week\",\n",
    "    \"month\",\n",
    "    \"day\",\n",
    "    \"hour\",\n",
    "    \"is_weekend\",\n",
    "    \"sku_id\",\n",
    "    \"store_id\",\n",
    "    \"stock_out_signal\"\n",
    "]\n"
   ],
   "id": "3c4facb30590afb4",
   "outputs": [],
   "execution_count": 61
  },
  {
   "metadata": {
    "ExecuteTime": {
     "end_time": "2025-09-21T03:39:12.445339Z",
     "start_time": "2025-09-21T03:39:12.289201Z"
    }
   },
   "cell_type": "code",
   "source": [
    "# Ensure folder exist\n",
    "curated_path = project_root / \"data\" / \"curated\"\n",
    "curated_path.mkdir(parents=True, exist_ok=True)\n",
    "\n",
    "# Select relevant columns\n",
    "test_df = df.select(cols_to_save)\n",
    "\n",
    "# Save as Parquet (recommended for Spark)\n",
    "test_path = curated_path / \"test_inventory.parquet\"\n",
    "test_df.write.mode(\"overwrite\").parquet(str(test_path))\n",
    "\n",
    "print(\"Test data saved at:\", test_path)\n"
   ],
   "id": "7ba539b5ecb2d27d",
   "outputs": [
    {
     "name": "stdout",
     "output_type": "stream",
     "text": [
      "Test data saved at: /home/prabin/projects/BDA311/Nova_retail_assign/data/curated/test_inventory.parquet\n"
     ]
    }
   ],
   "execution_count": 62
  },
  {
   "metadata": {},
   "cell_type": "code",
   "outputs": [],
   "execution_count": null,
   "source": "",
   "id": "e0fbf085a4eee6c7"
  }
 ],
 "metadata": {
  "kernelspec": {
   "display_name": "Python 3",
   "language": "python",
   "name": "python3"
  },
  "language_info": {
   "codemirror_mode": {
    "name": "ipython",
    "version": 2
   },
   "file_extension": ".py",
   "mimetype": "text/x-python",
   "name": "python",
   "nbconvert_exporter": "python",
   "pygments_lexer": "ipython2",
   "version": "2.7.6"
  }
 },
 "nbformat": 4,
 "nbformat_minor": 5
}
